{
  "metadata": {
    "language_info": {
      "codemirror_mode": {
        "name": "python",
        "version": 3
      },
      "file_extension": ".py",
      "mimetype": "text/x-python",
      "name": "python",
      "nbconvert_exporter": "python",
      "pygments_lexer": "ipython3",
      "version": "3.8"
    },
    "kernelspec": {
      "name": "python",
      "display_name": "Python (Pyodide)",
      "language": "python"
    }
  },
  "nbformat_minor": 4,
  "nbformat": 4,
  "cells": [
    {
      "cell_type": "markdown",
      "source": "# Load the Book",
      "metadata": {}
    },
    {
      "cell_type": "code",
      "source": "with open(\"miracle_in_the_andes.txt\", 'r') as file:\n    book = file.read()",
      "metadata": {
        "trusted": true
      },
      "execution_count": 4,
      "outputs": []
    },
    {
      "cell_type": "markdown",
      "source": "# Extract the paragraph where love was used",
      "metadata": {}
    },
    {
      "cell_type": "code",
      "source": "import re\n\npattern = re.compile(\"[^\\n]+love[^\\n]+\")\nparagraph = re.findall(pattern, book)\nprint(len(paragraph))",
      "metadata": {
        "trusted": true
      },
      "execution_count": 35,
      "outputs": [
        {
          "name": "stdout",
          "text": "60\n",
          "output_type": "stream"
        }
      ]
    },
    {
      "cell_type": "markdown",
      "source": "# Extract the chapter title",
      "metadata": {}
    },
    {
      "cell_type": "code",
      "source": "pattern = re.compile(\"[\\n]{1}[A-Za-z ]+[\\n]{2}\")\ntitle = re.findall(pattern, book)\ntitle = [item.strip(\"\\n\") for item in title]\nprint(title)",
      "metadata": {
        "trusted": true
      },
      "execution_count": 13,
      "outputs": [
        {
          "name": "stdout",
          "text": "['Before', 'Everything Precious', 'A Promise', 'Breathe Once More', 'Abandoned', 'Tomb', 'East', 'The Opposite of Death', 'I See a Man', 'After']\n",
          "output_type": "stream"
        }
      ]
    },
    {
      "cell_type": "markdown",
      "source": "# Function that finds the occurence of any word",
      "metadata": {}
    },
    {
      "cell_type": "code",
      "source": "def find(word):\n    pattern = re.compile(word)\n    occurence = len(re.findall(pattern, book.lower()))\n    return occurence if occurence else f\"Book does not contain the word {word}\"",
      "metadata": {
        "trusted": true
      },
      "execution_count": 36,
      "outputs": []
    },
    {
      "cell_type": "markdown",
      "source": "# call the function",
      "metadata": {}
    },
    {
      "cell_type": "code",
      "source": "print(find(\"love\"))",
      "metadata": {
        "trusted": true
      },
      "execution_count": 37,
      "outputs": [
        {
          "name": "stdout",
          "text": "115\n",
          "output_type": "stream"
        }
      ]
    },
    {
      "cell_type": "code",
      "source": "print(find(\"hate\"))",
      "metadata": {
        "trusted": true
      },
      "execution_count": 38,
      "outputs": [
        {
          "name": "stdout",
          "text": "15\n",
          "output_type": "stream"
        }
      ]
    },
    {
      "cell_type": "code",
      "source": "",
      "metadata": {},
      "execution_count": null,
      "outputs": []
    }
  ]
}